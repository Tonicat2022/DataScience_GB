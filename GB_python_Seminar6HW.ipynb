{
  "nbformat": 4,
  "nbformat_minor": 0,
  "metadata": {
    "colab": {
      "provenance": [],
      "authorship_tag": "ABX9TyNTQWqBEj8J03W7XLQX5Jj/"
    },
    "kernelspec": {
      "name": "python3",
      "display_name": "Python 3"
    },
    "language_info": {
      "name": "python"
    }
  },
  "cells": [
    {
      "cell_type": "code",
      "execution_count": null,
      "metadata": {
        "id": "lW6dKBd67A19"
      },
      "outputs": [],
      "source": []
    },
    {
      "cell_type": "code",
      "execution_count": null,
      "metadata": {
        "id": "rMugPhEyNjta"
      },
      "outputs": [],
      "source": [
        "a1 = int(input('please input first elements of array: '))\n",
        "n = int(input('please input quantity of elements in array: '))\n",
        "d = int(input('please input koeficient: '))\n",
        "nArray = [a1+(n-1)*d for n in range(1, n+1)]\n",
        "\n",
        "print(nArray)"
      ]
    },
    {
      "cell_type": "code",
      "source": [
        "import random\n",
        "n = int(input('please input quantity of elements in array: '))\n",
        "minLimit = int(input('please input lower element limit in array: '))\n",
        "maxLimit = int(input('please input hegher element limit in array: '))\n",
        "nArray =[ random.randint(1,10) for i in range(0,n) ]\n",
        "print(nArray)\n",
        "indexArray = []\n",
        "for n in range(0, len(nArray)):\n",
        "  if nArray[n] > minLimit-1 and nArray[n] < maxLimit+1:\n",
        "     print(f\"we add {nArray[n]} to Array\")\n",
        "     indexArray.append(n)\n",
        "     print(f\"our array of indexes is {indexArray}\")\n",
        "if len(indexArray) < 1: print(f\"There no elements in array less than {maxLimit} and hihger to {minLimit}\")\n"
      ],
      "metadata": {
        "id": "hTeMjvacdUVC"
      },
      "execution_count": null,
      "outputs": []
    }
  ]
}