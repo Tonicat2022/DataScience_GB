{
 "cells": [
  {
   "cell_type": "code",
   "execution_count": 12,
   "metadata": {},
   "outputs": [],
   "source": [
    "lst_data = [ {'name':'John','age':25, 'salary':5000, 'city':'Moscow'},\n",
    "    {'name':'Mike','age':31, 'salary':7000, 'city':'Piter'},\n",
    "    {'name':'Anna','age':35, 'salary':15000, 'city':'Moscow'},\n",
    "    {'name':'Mark','age':23, 'salary':6000, 'city':'Kazan'}]"
   ]
  },
  {
   "cell_type": "code",
   "execution_count": 13,
   "metadata": {},
   "outputs": [],
   "source": [
    "def getClient(ClientsData: list):\n",
    "    for client in ClientsData:\n",
    "        yield client"
   ]
  },
  {
   "cell_type": "code",
   "execution_count": 14,
   "metadata": {},
   "outputs": [],
   "source": [
    "gen1 = getClient(lst_data)"
   ]
  },
  {
   "cell_type": "code",
   "execution_count": 15,
   "metadata": {},
   "outputs": [
    {
     "name": "stdout",
     "output_type": "stream",
     "text": [
      "{'name': 'John', 'age': 25, 'salary': 5000, 'city': 'Moscow'}\n",
      "{'name': 'Mike', 'age': 31, 'salary': 7000, 'city': 'Piter'}\n",
      "{'name': 'Anna', 'age': 35, 'salary': 15000, 'city': 'Moscow'}\n",
      "{'name': 'Mark', 'age': 23, 'salary': 6000, 'city': 'Kazan'}\n"
     ]
    }
   ],
   "source": [
    "for elem in gen1:\n",
    "    print(elem)"
   ]
  }
 ],
 "metadata": {
  "kernelspec": {
   "display_name": "Python 3",
   "language": "python",
   "name": "python3"
  },
  "language_info": {
   "codemirror_mode": {
    "name": "ipython",
    "version": 3
   },
   "file_extension": ".py",
   "mimetype": "text/x-python",
   "name": "python",
   "nbconvert_exporter": "python",
   "pygments_lexer": "ipython3",
   "version": "3.12.0"
  }
 },
 "nbformat": 4,
 "nbformat_minor": 2
}
